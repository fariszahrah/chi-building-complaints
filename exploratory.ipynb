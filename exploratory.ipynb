{
 "cells": [
  {
   "cell_type": "code",
   "execution_count": 120,
   "metadata": {},
   "outputs": [],
   "source": [
    "import pandas as pd\n",
    "from sodapy import Socrata\n",
    "import numpy as np\n",
    "import math\n",
    "\n",
    "from tqdm import tqdm"
   ]
  },
  {
   "cell_type": "code",
   "execution_count": null,
   "metadata": {},
   "outputs": [],
   "source": []
  },
  {
   "cell_type": "code",
   "execution_count": 75,
   "metadata": {},
   "outputs": [],
   "source": [
    "df = pd.read_pickle('./complaints.pkl')\n",
    "\n"
   ]
  },
  {
   "cell_type": "code",
   "execution_count": 93,
   "metadata": {},
   "outputs": [
    {
     "data": {
      "text/plain": [
       "'https://data.cityofchicago.org/resource/fypr-ksnz.csv?street_number=1%20and%20direction=%27S%27%20and%20street_name=%27FINANCIAL%27%20and%20street_type=%27PL%27'"
      ]
     },
     "execution_count": 93,
     "metadata": {},
     "output_type": "execute_result"
    }
   ],
   "source": [
    "df.complaints[0]['url']"
   ]
  },
  {
   "cell_type": "code",
   "execution_count": 94,
   "metadata": {},
   "outputs": [
    {
     "data": {
      "text/plain": [
       "1000"
      ]
     },
     "execution_count": 94,
     "metadata": {},
     "output_type": "execute_result"
    }
   ],
   "source": [
    "len(client.get('fypr-ksnz'))"
   ]
  },
  {
   "cell_type": "code",
   "execution_count": 95,
   "metadata": {},
   "outputs": [],
   "source": [
    "import requests"
   ]
  },
  {
   "cell_type": "code",
   "execution_count": 110,
   "metadata": {},
   "outputs": [],
   "source": [
    "response = df"
   ]
  },
  {
   "cell_type": "code",
   "execution_count": 107,
   "metadata": {},
   "outputs": [],
   "source": [
    "response = df1.append(pd.read_csv('https://data.cityofchicago.org/resource/fypr-ksnz.csv?street_number=1%20and%20direction=%27S%27%20and%20street_name=%27FINANCIAL%27%20and%20street_type=%27PL%27'))"
   ]
  },
  {
   "cell_type": "code",
   "execution_count": 109,
   "metadata": {},
   "outputs": [
    {
     "data": {
      "text/html": [
       "<div>\n",
       "<style scoped>\n",
       "    .dataframe tbody tr th:only-of-type {\n",
       "        vertical-align: middle;\n",
       "    }\n",
       "\n",
       "    .dataframe tbody tr th {\n",
       "        vertical-align: top;\n",
       "    }\n",
       "\n",
       "    .dataframe thead th {\n",
       "        text-align: right;\n",
       "    }\n",
       "</style>\n",
       "<table border=\"1\" class=\"dataframe\">\n",
       "  <thead>\n",
       "    <tr style=\"text-align: right;\">\n",
       "      <th></th>\n",
       "      <th>complaint_id</th>\n",
       "      <th>complaint_type</th>\n",
       "      <th>address</th>\n",
       "      <th>street_number</th>\n",
       "      <th>street_number_to</th>\n",
       "      <th>direction</th>\n",
       "      <th>street_name</th>\n",
       "      <th>street_type</th>\n",
       "      <th>inspector</th>\n",
       "      <th>complaint_date</th>\n",
       "      <th>complaint_detail</th>\n",
       "      <th>inspection_log</th>\n",
       "      <th>data_source</th>\n",
       "      <th>modified_date</th>\n",
       "      <th>latitude</th>\n",
       "      <th>longitude</th>\n",
       "      <th>location</th>\n",
       "    </tr>\n",
       "  </thead>\n",
       "  <tbody>\n",
       "    <tr>\n",
       "      <th>0</th>\n",
       "      <td>DOECOMP50</td>\n",
       "      <td>Air Pollution Work Order</td>\n",
       "      <td>1 S FINANCIAL PL</td>\n",
       "      <td>1</td>\n",
       "      <td>NaN</td>\n",
       "      <td>S</td>\n",
       "      <td>FINANCIAL</td>\n",
       "      <td>PL</td>\n",
       "      <td>55</td>\n",
       "      <td>2000-03-29T00:00:00.000</td>\n",
       "      <td>CHICAGO BOARD OPTION EXCHANGE       THERE IS A...</td>\n",
       "      <td>MORE INFORMATION MAY BE AVAILABLE IN THE CDPH ...</td>\n",
       "      <td>HISTORIC DEPT. OF ENVIRONMENT</td>\n",
       "      <td>2012-01-01T00:00:00.000</td>\n",
       "      <td>NaN</td>\n",
       "      <td>NaN</td>\n",
       "      <td>NaN</td>\n",
       "    </tr>\n",
       "    <tr>\n",
       "      <th>0</th>\n",
       "      <td>DOECOMP50</td>\n",
       "      <td>Air Pollution Work Order</td>\n",
       "      <td>1 S FINANCIAL PL</td>\n",
       "      <td>1</td>\n",
       "      <td>NaN</td>\n",
       "      <td>S</td>\n",
       "      <td>FINANCIAL</td>\n",
       "      <td>PL</td>\n",
       "      <td>55</td>\n",
       "      <td>2000-03-29T00:00:00.000</td>\n",
       "      <td>CHICAGO BOARD OPTION EXCHANGE       THERE IS A...</td>\n",
       "      <td>MORE INFORMATION MAY BE AVAILABLE IN THE CDPH ...</td>\n",
       "      <td>HISTORIC DEPT. OF ENVIRONMENT</td>\n",
       "      <td>2012-01-01T00:00:00.000</td>\n",
       "      <td>NaN</td>\n",
       "      <td>NaN</td>\n",
       "      <td>NaN</td>\n",
       "    </tr>\n",
       "  </tbody>\n",
       "</table>\n",
       "</div>"
      ],
      "text/plain": [
       "  complaint_id            complaint_type           address  street_number  \\\n",
       "0    DOECOMP50  Air Pollution Work Order  1 S FINANCIAL PL              1   \n",
       "0    DOECOMP50  Air Pollution Work Order  1 S FINANCIAL PL              1   \n",
       "\n",
       "   street_number_to direction street_name street_type  inspector  \\\n",
       "0               NaN         S   FINANCIAL          PL         55   \n",
       "0               NaN         S   FINANCIAL          PL         55   \n",
       "\n",
       "            complaint_date                                   complaint_detail  \\\n",
       "0  2000-03-29T00:00:00.000  CHICAGO BOARD OPTION EXCHANGE       THERE IS A...   \n",
       "0  2000-03-29T00:00:00.000  CHICAGO BOARD OPTION EXCHANGE       THERE IS A...   \n",
       "\n",
       "                                      inspection_log  \\\n",
       "0  MORE INFORMATION MAY BE AVAILABLE IN THE CDPH ...   \n",
       "0  MORE INFORMATION MAY BE AVAILABLE IN THE CDPH ...   \n",
       "\n",
       "                     data_source            modified_date  latitude  \\\n",
       "0  HISTORIC DEPT. OF ENVIRONMENT  2012-01-01T00:00:00.000       NaN   \n",
       "0  HISTORIC DEPT. OF ENVIRONMENT  2012-01-01T00:00:00.000       NaN   \n",
       "\n",
       "   longitude  location  \n",
       "0        NaN       NaN  \n",
       "0        NaN       NaN  "
      ]
     },
     "execution_count": 109,
     "metadata": {},
     "output_type": "execute_result"
    }
   ],
   "source": [
    "response"
   ]
  },
  {
   "cell_type": "code",
   "execution_count": null,
   "metadata": {},
   "outputs": [
    {
     "name": "stderr",
     "output_type": "stream",
     "text": [
      "  1%|          | 216/35116 [11:24<40:16:39,  4.15s/it]"
     ]
    }
   ],
   "source": [
    "response = None\n",
    "for i in tqdm(range(df.shape[0])):\n",
    "    if type(response) != type(pd.DataFrame):\n",
    "        response = pd.read_csv(df.complaints[i]['url'])\n",
    "    else:\n",
    "        print(response)\n",
    "        response.append(pd.read_csv(df.complaints[i]['url']))\n",
    "    "
   ]
  },
  {
   "cell_type": "code",
   "execution_count": null,
   "metadata": {},
   "outputs": [],
   "source": []
  }
 ],
 "metadata": {
  "kernelspec": {
   "display_name": "Python 3",
   "language": "python",
   "name": "python3"
  },
  "language_info": {
   "codemirror_mode": {
    "name": "ipython",
    "version": 3
   },
   "file_extension": ".py",
   "mimetype": "text/x-python",
   "name": "python",
   "nbconvert_exporter": "python",
   "pygments_lexer": "ipython3",
   "version": "3.7.4"
  }
 },
 "nbformat": 4,
 "nbformat_minor": 2
}
